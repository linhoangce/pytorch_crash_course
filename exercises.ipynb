{
  "nbformat": 4,
  "nbformat_minor": 0,
  "metadata": {
    "colab": {
      "provenance": [],
      "gpuType": "T4",
      "authorship_tag": "ABX9TyOxW4R1KDhwKb6QwCdZlnA2",
      "include_colab_link": true
    },
    "kernelspec": {
      "name": "python3",
      "display_name": "Python 3"
    },
    "language_info": {
      "name": "python"
    },
    "accelerator": "GPU"
  },
  "cells": [
    {
      "cell_type": "markdown",
      "metadata": {
        "id": "view-in-github",
        "colab_type": "text"
      },
      "source": [
        "<a href=\"https://colab.research.google.com/github/linhoangce/pytorch_crash_course/blob/main/exercises.ipynb\" target=\"_parent\"><img src=\"https://colab.research.google.com/assets/colab-badge.svg\" alt=\"Open In Colab\"/></a>"
      ]
    },
    {
      "cell_type": "markdown",
      "source": [
        "## Fundamental Exercise"
      ],
      "metadata": {
        "id": "VOsmTaDGY86H"
      }
    },
    {
      "cell_type": "code",
      "source": [
        "import torch"
      ],
      "metadata": {
        "id": "emdeNjpyrniS"
      },
      "execution_count": null,
      "outputs": []
    },
    {
      "cell_type": "markdown",
      "source": [
        "## Creating a tensor with shape (7, 7)"
      ],
      "metadata": {
        "id": "-RuHoIZ9rBgr"
      }
    },
    {
      "cell_type": "code",
      "source": [
        "x = torch.rand(7, 7)\n",
        "x, x.shape"
      ],
      "metadata": {
        "colab": {
          "base_uri": "https://localhost:8080/"
        },
        "id": "Sdm2ayO_rcpQ",
        "outputId": "08201745-1123-485d-b858-6788b2586be6"
      },
      "execution_count": null,
      "outputs": [
        {
          "output_type": "execute_result",
          "data": {
            "text/plain": [
              "(tensor([[5.5806e-01, 5.2223e-01, 4.5548e-01, 4.5056e-01, 8.0380e-01, 4.1528e-01,\n",
              "          7.3503e-01],\n",
              "         [9.2096e-01, 2.9205e-01, 6.7716e-03, 1.8952e-01, 8.4296e-01, 4.5395e-01,\n",
              "          5.3295e-01],\n",
              "         [4.3641e-01, 5.2626e-02, 6.4297e-02, 2.0089e-01, 9.8469e-01, 3.1827e-01,\n",
              "          4.7220e-01],\n",
              "         [6.7288e-04, 7.0313e-01, 1.0021e-01, 8.5566e-01, 5.4543e-01, 5.4132e-01,\n",
              "          9.1267e-01],\n",
              "         [1.5919e-01, 8.3670e-01, 1.9544e-02, 5.4407e-01, 1.9586e-01, 1.3710e-02,\n",
              "          6.8203e-01],\n",
              "         [2.3225e-01, 4.1663e-01, 3.4217e-01, 6.0002e-01, 9.7438e-01, 4.9423e-01,\n",
              "          1.9499e-01],\n",
              "         [8.6962e-01, 5.5451e-01, 8.9064e-01, 2.6943e-01, 8.3985e-01, 2.2111e-01,\n",
              "          3.4568e-03]]),\n",
              " torch.Size([7, 7]))"
            ]
          },
          "metadata": {},
          "execution_count": 2
        }
      ]
    },
    {
      "cell_type": "markdown",
      "source": [
        "3. Perform a matrix multiplication on the tensor from 2 with another random tensor with shape (1, 7)"
      ],
      "metadata": {
        "id": "2QucbyV8rj0x"
      }
    },
    {
      "cell_type": "code",
      "source": [
        "y = torch.rand(1, 7)\n",
        "y"
      ],
      "metadata": {
        "colab": {
          "base_uri": "https://localhost:8080/"
        },
        "id": "hcU3ywtwr7s6",
        "outputId": "9804f08d-8bfb-44a3-801a-e61b132a4d47"
      },
      "execution_count": null,
      "outputs": [
        {
          "output_type": "execute_result",
          "data": {
            "text/plain": [
              "tensor([[0.7849, 0.8634, 0.0867, 0.5700, 0.7796, 0.6620, 0.0718]])"
            ]
          },
          "metadata": {},
          "execution_count": 3
        }
      ]
    },
    {
      "cell_type": "code",
      "source": [
        "result = torch.matmul(x, y.T)\n",
        "result, result.shape"
      ],
      "metadata": {
        "colab": {
          "base_uri": "https://localhost:8080/"
        },
        "id": "xpffHBZBsB7E",
        "outputId": "481b5c47-98aa-4cc2-f9ac-aee4877acd8d"
      },
      "execution_count": null,
      "outputs": [
        {
          "output_type": "execute_result",
          "data": {
            "text/plain": [
              "(tensor([[2.1396],\n",
              "         [2.0796],\n",
              "         [1.5203],\n",
              "         [1.9531],\n",
              "         [1.3699],\n",
              "         [2.0145],\n",
              "         [2.1935]]),\n",
              " torch.Size([7, 1]))"
            ]
          },
          "metadata": {},
          "execution_count": 4
        }
      ]
    },
    {
      "cell_type": "markdown",
      "source": [
        "4. Set the random seed to 0 and do 2 & 3 over again.\n"
      ],
      "metadata": {
        "id": "I5cr-cgpsKPt"
      }
    },
    {
      "cell_type": "code",
      "source": [
        "torch.manual_seed(0)\n",
        "x = torch.rand(7, 7)\n",
        "x"
      ],
      "metadata": {
        "colab": {
          "base_uri": "https://localhost:8080/"
        },
        "id": "4IOBBGQvsY45",
        "outputId": "e6b6e671-13bb-4cbc-d5ef-5ca624b3e4e9"
      },
      "execution_count": null,
      "outputs": [
        {
          "output_type": "execute_result",
          "data": {
            "text/plain": [
              "tensor([[0.4963, 0.7682, 0.0885, 0.1320, 0.3074, 0.6341, 0.4901],\n",
              "        [0.8964, 0.4556, 0.6323, 0.3489, 0.4017, 0.0223, 0.1689],\n",
              "        [0.2939, 0.5185, 0.6977, 0.8000, 0.1610, 0.2823, 0.6816],\n",
              "        [0.9152, 0.3971, 0.8742, 0.4194, 0.5529, 0.9527, 0.0362],\n",
              "        [0.1852, 0.3734, 0.3051, 0.9320, 0.1759, 0.2698, 0.1507],\n",
              "        [0.0317, 0.2081, 0.9298, 0.7231, 0.7423, 0.5263, 0.2437],\n",
              "        [0.5846, 0.0332, 0.1387, 0.2422, 0.8155, 0.7932, 0.2783]])"
            ]
          },
          "metadata": {},
          "execution_count": 5
        }
      ]
    },
    {
      "cell_type": "code",
      "source": [
        "y = torch.rand(1, 7)\n",
        "\n",
        "torch.matmul(x, y.T), torch.matmul(x, y.T).shape"
      ],
      "metadata": {
        "colab": {
          "base_uri": "https://localhost:8080/"
        },
        "id": "QIzKjvNOslxm",
        "outputId": "292026c3-4e9e-46c6-e455-de5c58ebaafa"
      },
      "execution_count": null,
      "outputs": [
        {
          "output_type": "execute_result",
          "data": {
            "text/plain": [
              "(tensor([[1.8542],\n",
              "         [1.9611],\n",
              "         [2.2884],\n",
              "         [3.0481],\n",
              "         [1.7067],\n",
              "         [2.5290],\n",
              "         [1.7989]]),\n",
              " torch.Size([7, 1]))"
            ]
          },
          "metadata": {},
          "execution_count": 6
        }
      ]
    },
    {
      "cell_type": "markdown",
      "source": [
        "Setting ramdom seed on GPU"
      ],
      "metadata": {
        "id": "PdBfxMkbswVz"
      }
    },
    {
      "cell_type": "code",
      "source": [
        "device = \"cuda\" if torch.cuda.is_available() else \"cpu\"\n",
        "device"
      ],
      "metadata": {
        "colab": {
          "base_uri": "https://localhost:8080/",
          "height": 36
        },
        "id": "0GANcBT8ueez",
        "outputId": "5ea7bdc2-a5ed-4940-b3f2-6dc04b4009f0"
      },
      "execution_count": null,
      "outputs": [
        {
          "output_type": "execute_result",
          "data": {
            "text/plain": [
              "'cuda'"
            ],
            "application/vnd.google.colaboratory.intrinsic+json": {
              "type": "string"
            }
          },
          "metadata": {},
          "execution_count": 7
        }
      ]
    },
    {
      "cell_type": "code",
      "source": [],
      "metadata": {
        "id": "eXP9wNI9ulmf"
      },
      "execution_count": null,
      "outputs": []
    },
    {
      "cell_type": "code",
      "source": [
        "torch.manual_seed(1234)\n",
        "a = torch.rand(2, 3).to(device)\n",
        "b = torch.rand(2, 3).to(device)\n",
        "\n",
        "a, b\n"
      ],
      "metadata": {
        "colab": {
          "base_uri": "https://localhost:8080/"
        },
        "id": "uOolb0Jru548",
        "outputId": "42df8744-85e5-4a56-aa1a-0ef1cb5a0a6e"
      },
      "execution_count": null,
      "outputs": [
        {
          "output_type": "execute_result",
          "data": {
            "text/plain": [
              "(tensor([[0.0290, 0.4019, 0.2598],\n",
              "         [0.3666, 0.0583, 0.7006]], device='cuda:0'),\n",
              " tensor([[0.0518, 0.4681, 0.6738],\n",
              "         [0.3315, 0.7837, 0.5631]], device='cuda:0'))"
            ]
          },
          "metadata": {},
          "execution_count": 15
        }
      ]
    },
    {
      "cell_type": "code",
      "source": [
        "X = torch.matmul(a, b.T)\n",
        "X, X.shape"
      ],
      "metadata": {
        "colab": {
          "base_uri": "https://localhost:8080/"
        },
        "id": "uAdcErFjvNff",
        "outputId": "f6e22c88-dd74-4db2-949f-e04c6c774935"
      },
      "execution_count": null,
      "outputs": [
        {
          "output_type": "execute_result",
          "data": {
            "text/plain": [
              "(tensor([[0.3647, 0.4709],\n",
              "         [0.5184, 0.5617]], device='cuda:0'),\n",
              " torch.Size([2, 2]))"
            ]
          },
          "metadata": {},
          "execution_count": 16
        }
      ]
    },
    {
      "cell_type": "code",
      "source": [
        "# find max\n",
        "torch.max(X)"
      ],
      "metadata": {
        "colab": {
          "base_uri": "https://localhost:8080/"
        },
        "id": "-Cg6JQzSvPyO",
        "outputId": "d8ea3abc-2d0b-45cb-fb63-7e62f93fe626"
      },
      "execution_count": null,
      "outputs": [
        {
          "output_type": "execute_result",
          "data": {
            "text/plain": [
              "tensor(0.5617, device='cuda:0')"
            ]
          },
          "metadata": {},
          "execution_count": 17
        }
      ]
    },
    {
      "cell_type": "code",
      "source": [
        "# find min\n",
        "X.min()"
      ],
      "metadata": {
        "colab": {
          "base_uri": "https://localhost:8080/"
        },
        "id": "4lEA8xCHv1Q3",
        "outputId": "555b00aa-810d-43e5-c040-2cf1178fce6f"
      },
      "execution_count": null,
      "outputs": [
        {
          "output_type": "execute_result",
          "data": {
            "text/plain": [
              "tensor(0.3647, device='cuda:0')"
            ]
          },
          "metadata": {},
          "execution_count": 18
        }
      ]
    },
    {
      "cell_type": "markdown",
      "source": [
        "Make a random tensor with shape (1, 1, 1, 10)"
      ],
      "metadata": {
        "id": "oeiH6VW5v3iG"
      }
    },
    {
      "cell_type": "code",
      "source": [
        "torch.manual_seed(7)\n",
        "g = torch.rand(1, 1, 1, 10)\n",
        "g, g.shape"
      ],
      "metadata": {
        "colab": {
          "base_uri": "https://localhost:8080/"
        },
        "id": "MXchr4XsxtBi",
        "outputId": "e2849f20-7b5b-4a55-e51b-e676bcff7c37"
      },
      "execution_count": null,
      "outputs": [
        {
          "output_type": "execute_result",
          "data": {
            "text/plain": [
              "(tensor([[[[0.5349, 0.1988, 0.6592, 0.6569, 0.2328, 0.4251, 0.2071, 0.6297,\n",
              "            0.3653, 0.8513]]]]),\n",
              " torch.Size([1, 1, 1, 10]))"
            ]
          },
          "metadata": {},
          "execution_count": 19
        }
      ]
    },
    {
      "cell_type": "code",
      "source": [
        "g_squeezed = torch.squeeze(g)\n",
        "g_squeezed"
      ],
      "metadata": {
        "colab": {
          "base_uri": "https://localhost:8080/"
        },
        "id": "jhykk84Kx10b",
        "outputId": "1a866b2e-7786-4187-bd6b-2b90b27af3eb"
      },
      "execution_count": null,
      "outputs": [
        {
          "output_type": "execute_result",
          "data": {
            "text/plain": [
              "tensor([0.5349, 0.1988, 0.6592, 0.6569, 0.2328, 0.4251, 0.2071, 0.6297, 0.3653,\n",
              "        0.8513])"
            ]
          },
          "metadata": {},
          "execution_count": 20
        }
      ]
    },
    {
      "cell_type": "markdown",
      "source": [
        "## PyTorch Workflow"
      ],
      "metadata": {
        "id": "0vZ_YBeTx-Qs"
      }
    },
    {
      "cell_type": "code",
      "source": [
        "import torch\n",
        "from torch import nn\n",
        "import matplotlib.pyplot as plt"
      ],
      "metadata": {
        "id": "SLwHVpNqZDQp"
      },
      "execution_count": 7,
      "outputs": []
    },
    {
      "cell_type": "code",
      "source": [
        "# Device-agnostic code\n",
        "device = \"cuda\" if torch.cuda.is_available() else \"cpu\"\n",
        "device"
      ],
      "metadata": {
        "colab": {
          "base_uri": "https://localhost:8080/",
          "height": 36
        },
        "id": "_iUaTa2sZOLu",
        "outputId": "2f87a323-8e3a-4a1d-e260-2a400de97cb4"
      },
      "execution_count": 8,
      "outputs": [
        {
          "output_type": "execute_result",
          "data": {
            "text/plain": [
              "'cuda'"
            ],
            "application/vnd.google.colaboratory.intrinsic+json": {
              "type": "string"
            }
          },
          "metadata": {},
          "execution_count": 8
        }
      ]
    },
    {
      "cell_type": "markdown",
      "source": [
        "1. Create a straight line dataset using the linear regression formula `weight * X + bias`\n",
        "\n",
        "* `weight = 0.3` and `bias = 0.9` there should be at least 100 data points total.\n",
        "*Split the data into 80% training, 20% testing.\n",
        "*Plot the training and testing data so it becomes visible"
      ],
      "metadata": {
        "id": "u-qxG-UhZU6g"
      }
    },
    {
      "cell_type": "code",
      "source": [
        "# Create the data parameters\n",
        "weight = 0.3\n",
        "bias = 0.9\n",
        "\n",
        "start = 0\n",
        "end = 1\n",
        "step = 0.01\n",
        "\n",
        "X = torch.arange(start, end, step).unsqueeze(dim=1)\n",
        "y = weight * X + bias\n",
        "\n",
        "print(f\"Number of X sample: {len(X)}\")\n",
        "print(f\"Nuber of y samples: {len(y)}\")\n",
        "print(f\"First 10 X & y sample: \\nX: {X[:10]} \\ny: {y[:10]}\")"
      ],
      "metadata": {
        "colab": {
          "base_uri": "https://localhost:8080/"
        },
        "id": "_9tPWs9pZ3_q",
        "outputId": "6c494c0b-f675-43f0-87cd-c6703bc091c8"
      },
      "execution_count": 12,
      "outputs": [
        {
          "output_type": "stream",
          "name": "stdout",
          "text": [
            "Number of X sample: 100\n",
            "Nuber of y samples: 100\n",
            "First 10 X & y sample: \n",
            "X: tensor([[0.0000],\n",
            "        [0.0100],\n",
            "        [0.0200],\n",
            "        [0.0300],\n",
            "        [0.0400],\n",
            "        [0.0500],\n",
            "        [0.0600],\n",
            "        [0.0700],\n",
            "        [0.0800],\n",
            "        [0.0900]]) \n",
            "y: tensor([[0.9000],\n",
            "        [0.9030],\n",
            "        [0.9060],\n",
            "        [0.9090],\n",
            "        [0.9120],\n",
            "        [0.9150],\n",
            "        [0.9180],\n",
            "        [0.9210],\n",
            "        [0.9240],\n",
            "        [0.9270]])\n"
          ]
        }
      ]
    },
    {
      "cell_type": "code",
      "source": [
        "# Split data into training and testing\n",
        "split_data = int(0.8 * len(X))\n",
        "\n",
        "X_train, X_test = X[:split_data], X[split_data:]\n",
        "y_train, y_test = y[:split_data], y[split_data:]\n"
      ],
      "metadata": {
        "id": "d1_t3C8dcPyD"
      },
      "execution_count": 13,
      "outputs": []
    },
    {
      "cell_type": "code",
      "source": [
        "plt.plot(X_train, y_train, label=\"Training data\")\n",
        "plt.plot(X_test,y_test, label=\"Testing data\")\n",
        "plt.title(\"Training and testing data\")\n",
        "plt.show()"
      ],
      "metadata": {
        "colab": {
          "base_uri": "https://localhost:8080/",
          "height": 452
        },
        "id": "3FrW03zfczpc",
        "outputId": "d8538b2e-5b37-4ec7-c72a-3841e622340f"
      },
      "execution_count": 20,
      "outputs": [
        {
          "output_type": "display_data",
          "data": {
            "text/plain": [
              "<Figure size 640x480 with 1 Axes>"
            ],
            "image/png": "[encoded data removed]"
          },
          "metadata": {}
        }
      ]
    },
    {
      "cell_type": "code",
      "source": [
        "# plotting function\n",
        "def plot_predictions(train_data = X_train,\n",
        "                     train_labels = y_train,\n",
        "                     test_data = X_test,\n",
        "                     test_labels = y_test,\n",
        "                     predictions = None):\n",
        "\n",
        "  plt.figure(figsize= (10, 7))\n",
        "  plt.scatter(train_data, train_labels, c='b', s=4, label=\"Training data\")\n",
        "  plt.scatter(test_data, test_labels, c='g', s=4, label=\"Test data\")\n",
        "\n",
        "  if predictions is not None:\n",
        "    plt.scatter(test_data, predictions, c='r', s=4, label=\"Predictions\")\n",
        "\n",
        "  plt.legend(prop={\"size\": 14})\n",
        "\n",
        "plot_predictions()"
      ],
      "metadata": {
        "colab": {
          "base_uri": "https://localhost:8080/",
          "height": 599
        },
        "id": "lPfH1oTbf4hT",
        "outputId": "ceaf7cc9-72b9-4cf2-eaba-c7fdb0dc7833"
      },
      "execution_count": 26,
      "outputs": [
        {
          "output_type": "display_data",
          "data": {
            "text/plain": [
              "<Figure size 1000x700 with 1 Axes>"
            ],
            "image/png": "[encoded data removed]"
          },
          "metadata": {}
        }
      ]
    },
    {
      "cell_type": "markdown",
      "source": [
        "2. Build a PyTorch model by subclassing `nn.Module`\n",
        "\n"
      ],
      "metadata": {
        "id": "qC5WFokJdBkk"
      }
    },
    {
      "cell_type": "code",
      "source": [
        "# Create PyTorch linear regression model by subclassing nn.Module\n",
        "class LinearRegressionModel(nn.Module):\n",
        "\n",
        "  def __init__(self):\n",
        "    super().__init__()\n",
        "\n",
        "    self.weights = nn.Parameter(\n",
        "                                torch.randn(\n",
        "                                    1,\n",
        "                                    requires_grad=True,\n",
        "                                    dtype=torch.float\n",
        "                                    ))\n",
        "    self.bias = nn.Parameter(\n",
        "                              torch.randn(\n",
        "                                  1,\n",
        "                                  requires_grad=True,\n",
        "                                  dtype=torch.float\n",
        "                                  ))\n",
        "\n",
        "  def forward(self, X):\n",
        "    return self.weights * X + self.bias"
      ],
      "metadata": {
        "id": "TJyaaMf_doDw"
      },
      "execution_count": 17,
      "outputs": []
    },
    {
      "cell_type": "code",
      "source": [
        "model_0 = LinearRegressionModel()\n",
        "\n",
        "model_0.state_dict()"
      ],
      "metadata": {
        "colab": {
          "base_uri": "https://localhost:8080/"
        },
        "id": "Bmmg_I-9eYYt",
        "outputId": "09eec3c3-a0da-4dea-839f-51133ac14f0a"
      },
      "execution_count": 18,
      "outputs": [
        {
          "output_type": "execute_result",
          "data": {
            "text/plain": [
              "OrderedDict([('weights', tensor([2.1745])), ('bias', tensor([1.2080]))])"
            ]
          },
          "metadata": {},
          "execution_count": 18
        }
      ]
    },
    {
      "cell_type": "code",
      "source": [
        "# Create the Model using nn.Linear\n",
        "class LinearRegressionModelV1(nn.Module):\n",
        "\n",
        "  def __init__(self):\n",
        "    super().__init__()\n",
        "    self.linear_layer = nn.Linear(in_features=1,\n",
        "                                  out_features=1)\n",
        "\n",
        "  def forward(self, X):\n",
        "    return self.linear_layer(X)"
      ],
      "metadata": {
        "id": "umsYndWAejP6"
      },
      "execution_count": 30,
      "outputs": []
    },
    {
      "cell_type": "code",
      "source": [
        "model_1 = LinearRegressionModelV1()\n",
        "\n",
        "model_1.state_dict()"
      ],
      "metadata": {
        "colab": {
          "base_uri": "https://localhost:8080/"
        },
        "id": "XWVG1iqafrSD",
        "outputId": "49d03805-1675-4a5a-f9e3-50f7f5989fe4"
      },
      "execution_count": 39,
      "outputs": [
        {
          "output_type": "execute_result",
          "data": {
            "text/plain": [
              "OrderedDict([('linear_layer.weight', tensor([[0.7148]])),\n",
              "             ('linear_layer.bias', tensor([0.2856]))])"
            ]
          },
          "metadata": {},
          "execution_count": 39
        }
      ]
    },
    {
      "cell_type": "code",
      "source": [
        "model_1.to(device)\n",
        "next(model_1.parameters()).device"
      ],
      "metadata": {
        "colab": {
          "base_uri": "https://localhost:8080/"
        },
        "id": "88IO7878fwkO",
        "outputId": "f5cb935f-a7e9-4a1d-e583-76486e44a721"
      },
      "execution_count": 40,
      "outputs": [
        {
          "output_type": "execute_result",
          "data": {
            "text/plain": [
              "device(type='cuda', index=0)"
            ]
          },
          "metadata": {},
          "execution_count": 40
        }
      ]
    },
    {
      "cell_type": "markdown",
      "source": [
        "3. Create a loss function and optimizer using `nn.L1Loss()` and `torch.optim.SGD(params, lr)`\n",
        "\n",
        "* The learning rate of the optimizer is to be 0.01\n",
        "* Write a training loop to perform the appropriate training steps for 300 epochs\n",
        "* The training loop should test the model on the test dataset every 20 epochs"
      ],
      "metadata": {
        "id": "002wop8PhkbE"
      }
    },
    {
      "cell_type": "code",
      "source": [
        "# Create the loss function and optimizer\n",
        "loss_fn = nn.L1Loss()\n",
        "optimizer = torch.optim.SGD(params=model_1.parameters(),\n",
        "                            lr=0.01)\n",
        "\n",
        "loss_fn, optimizer"
      ],
      "metadata": {
        "colab": {
          "base_uri": "https://localhost:8080/"
        },
        "id": "P-yQX_V4huEv",
        "outputId": "f443b1ce-428e-4ff7-e731-0fe2c55f35d1"
      },
      "execution_count": 41,
      "outputs": [
        {
          "output_type": "execute_result",
          "data": {
            "text/plain": [
              "(L1Loss(),\n",
              " SGD (\n",
              " Parameter Group 0\n",
              "     dampening: 0\n",
              "     differentiable: False\n",
              "     foreach: None\n",
              "     fused: None\n",
              "     lr: 0.01\n",
              "     maximize: False\n",
              "     momentum: 0\n",
              "     nesterov: False\n",
              "     weight_decay: 0\n",
              " ))"
            ]
          },
          "metadata": {},
          "execution_count": 41
        }
      ]
    },
    {
      "cell_type": "code",
      "source": [
        "epochs = 300\n",
        "\n",
        "# Send data to target device\n",
        "X_train = X_train.to(device)\n",
        "X_test = X_test.to(device)\n",
        "y_train = y_train.to(device)\n",
        "y_test = y_test.to(device)\n",
        "\n",
        "for epoch in range(epochs):\n",
        "\n",
        "  model_1.train()\n",
        "\n",
        "  # 1. Forward pass\n",
        "  y_pred = model_1(X_train)\n",
        "\n",
        "  # 2. Calculate the loss\n",
        "  loss = loss_fn(y_pred, y_train)\n",
        "\n",
        "  # 3. Zero grad\n",
        "  optimizer.zero_grad()\n",
        "\n",
        "  # 4. Backpropagation\n",
        "  loss.backward()\n",
        "\n",
        "  # 5. Optimize\n",
        "  optimizer.step()\n",
        "\n",
        "  if epoch % 20 == 0:\n",
        "    model_1.eval() # turning of parameter tracking\n",
        "\n",
        "    with torch.inference_mode():\n",
        "      test_pred = model_1(X_test)\n",
        "      test_loss = loss_fn(test_pred, y_test)\n",
        "\n",
        "    print(f\"Epoch: {epoch} | Loss: {loss} | Test loss: {test_loss}\")"
      ],
      "metadata": {
        "colab": {
          "base_uri": "https://localhost:8080/"
        },
        "id": "3LmkwuGvh8A4",
        "outputId": "0e67d379-996e-4cab-baf0-23ddb923199f"
      },
      "execution_count": 42,
      "outputs": [
        {
          "output_type": "stream",
          "name": "stdout",
          "text": [
            "Epoch: 0 | Loss: 0.4505361020565033 | Test loss: 0.22958436608314514\n",
            "Epoch: 20 | Loss: 0.2193313091993332 | Test loss: 0.04185645654797554\n",
            "Epoch: 40 | Loss: 0.11864197254180908 | Test loss: 0.18953189253807068\n",
            "Epoch: 60 | Loss: 0.10407471656799316 | Test loss: 0.22087569534778595\n",
            "Epoch: 80 | Loss: 0.09649636596441269 | Test loss: 0.2187877893447876\n",
            "Epoch: 100 | Loss: 0.08956664800643921 | Test loss: 0.20626191794872284\n",
            "Epoch: 120 | Loss: 0.08271261304616928 | Test loss: 0.19096677005290985\n",
            "Epoch: 140 | Loss: 0.07585858553647995 | Test loss: 0.17567157745361328\n",
            "Epoch: 160 | Loss: 0.06900455802679062 | Test loss: 0.1603764146566391\n",
            "Epoch: 180 | Loss: 0.06215051934123039 | Test loss: 0.14508120715618134\n",
            "Epoch: 200 | Loss: 0.05529649183154106 | Test loss: 0.12978604435920715\n",
            "Epoch: 220 | Loss: 0.04844440519809723 | Test loss: 0.11380290240049362\n",
            "Epoch: 240 | Loss: 0.041593290865421295 | Test loss: 0.09747578948736191\n",
            "Epoch: 260 | Loss: 0.034742116928100586 | Test loss: 0.08114829659461975\n",
            "Epoch: 280 | Loss: 0.027889937162399292 | Test loss: 0.06516469269990921\n"
          ]
        }
      ]
    },
    {
      "cell_type": "markdown",
      "source": [
        "4. Make predictions with the trained model on the test data"
      ],
      "metadata": {
        "id": "jLcoCsxpkDee"
      }
    },
    {
      "cell_type": "code",
      "source": [
        "# Make predictions with the model\n",
        "model_1.eval()\n",
        "\n",
        "with torch.inference_mode():\n",
        "  test_y_pred = model_1(X_test)\n",
        "  test_loss = loss_fn(test_y_pred, y_test)\n",
        "\n",
        "test_y_pred, test_loss"
      ],
      "metadata": {
        "colab": {
          "base_uri": "https://localhost:8080/"
        },
        "id": "hc7gO_CAlTXr",
        "outputId": "78d5a358-9511-4fc6-bb71-845bb2f99258"
      },
      "execution_count": 44,
      "outputs": [
        {
          "output_type": "execute_result",
          "data": {
            "text/plain": [
              "(tensor([[1.1797],\n",
              "         [1.1837],\n",
              "         [1.1877],\n",
              "         [1.1918],\n",
              "         [1.1958],\n",
              "         [1.1999],\n",
              "         [1.2039],\n",
              "         [1.2080],\n",
              "         [1.2120],\n",
              "         [1.2161],\n",
              "         [1.2201],\n",
              "         [1.2242],\n",
              "         [1.2282],\n",
              "         [1.2323],\n",
              "         [1.2363],\n",
              "         [1.2404],\n",
              "         [1.2444],\n",
              "         [1.2485],\n",
              "         [1.2525],\n",
              "         [1.2566]], device='cuda:0'),\n",
              " tensor(0.0496, device='cuda:0'))"
            ]
          },
          "metadata": {},
          "execution_count": 44
        }
      ]
    },
    {
      "cell_type": "code",
      "source": [
        "plot_predictions(predictions=test_y_pred.cpu())"
      ],
      "metadata": {
        "colab": {
          "base_uri": "https://localhost:8080/",
          "height": 599
        },
        "id": "hDeVniy0ln3Z",
        "outputId": "c5f1ef1c-6424-46bd-a1bc-a5b29a76ed71"
      },
      "execution_count": 46,
      "outputs": [
        {
          "output_type": "display_data",
          "data": {
            "text/plain": [
              "<Figure size 1000x700 with 1 Axes>"
            ],
            "image/png": "[encoded data removed]"
          },
          "metadata": {}
        }
      ]
    },
    {
      "cell_type": "markdown",
      "source": [
        "5. Save trained model"
      ],
      "metadata": {
        "id": "LriSCcTil8mN"
      }
    },
    {
      "cell_type": "code",
      "source": [
        "# 1. Create dir\n",
        "from pathlib import Path\n",
        "\n",
        "PATH = Path(\"model_ex\")\n",
        "PATH.mkdir(parents=True, exist_ok=True)\n",
        "\n",
        "# 2. Create model save path\n",
        "MODEL_NAME = \"exercise_model.pth\"\n",
        "MODEL_SAVE_PATH = PATH / MODEL_NAME\n",
        "\n",
        "# 3. Save the model\n",
        "print(f\"Saving model to : {MODEL_SAVE_PATH}\")\n",
        "torch.save(obj=model_1.state_dict(),\n",
        "           f=MODEL_SAVE_PATH)\n",
        "\n"
      ],
      "metadata": {
        "colab": {
          "base_uri": "https://localhost:8080/"
        },
        "id": "DHD457CbnTIW",
        "outputId": "4b22a64c-cefb-4683-ca52-6dddb85b525d"
      },
      "execution_count": 47,
      "outputs": [
        {
          "output_type": "stream",
          "name": "stdout",
          "text": [
            "Saving model to : model_ex/exercise_model.pth\n"
          ]
        }
      ]
    },
    {
      "cell_type": "code",
      "source": [
        "model_1.state_dict()"
      ],
      "metadata": {
        "colab": {
          "base_uri": "https://localhost:8080/"
        },
        "id": "daDW9b64oE-p",
        "outputId": "c5ee0ea9-bb7c-44f9-8264-51480c6999e7"
      },
      "execution_count": 49,
      "outputs": [
        {
          "output_type": "execute_result",
          "data": {
            "text/plain": [
              "OrderedDict([('linear_layer.weight', tensor([[0.4047]], device='cuda:0')),\n",
              "             ('linear_layer.bias', tensor([0.8559], device='cuda:0'))])"
            ]
          },
          "metadata": {},
          "execution_count": 49
        }
      ]
    },
    {
      "cell_type": "code",
      "source": [
        "# Test the saved model\n",
        "loaded_model = LinearRegressionModelV1()\n",
        "\n",
        "loaded_model.load_state_dict(torch.load(f=MODEL_SAVE_PATH))\n",
        "loaded_model"
      ],
      "metadata": {
        "colab": {
          "base_uri": "https://localhost:8080/"
        },
        "id": "Gk7UXU0Nn4Ux",
        "outputId": "00859502-55e7-48e4-db78-a2ef90fab539"
      },
      "execution_count": 56,
      "outputs": [
        {
          "output_type": "execute_result",
          "data": {
            "text/plain": [
              "LinearRegressionModelV1(\n",
              "  (linear_layer): Linear(in_features=1, out_features=1, bias=True)\n",
              ")"
            ]
          },
          "metadata": {},
          "execution_count": 56
        }
      ]
    },
    {
      "cell_type": "code",
      "source": [
        "loaded_model.to(device)"
      ],
      "metadata": {
        "colab": {
          "base_uri": "https://localhost:8080/"
        },
        "id": "mR9PCM1YoDY-",
        "outputId": "94e4d27e-39b3-4fb6-bc74-d6249ac81aae"
      },
      "execution_count": 57,
      "outputs": [
        {
          "output_type": "execute_result",
          "data": {
            "text/plain": [
              "LinearRegressionModelV1(\n",
              "  (linear_layer): Linear(in_features=1, out_features=1, bias=True)\n",
              ")"
            ]
          },
          "metadata": {},
          "execution_count": 57
        }
      ]
    },
    {
      "cell_type": "code",
      "source": [
        "# Make predictions and compare to the previous\n",
        "loaded_model.eval()\n",
        "\n",
        "with torch.inference_mode():\n",
        "  loaded_model_preds = loaded_model(X_test)\n",
        "\n",
        "loaded_model_preds == test_y_pred"
      ],
      "metadata": {
        "colab": {
          "base_uri": "https://localhost:8080/"
        },
        "id": "_Lbt9HFooPyh",
        "outputId": "0767f759-01fa-4b82-ec87-420c8cd97583"
      },
      "execution_count": 59,
      "outputs": [
        {
          "output_type": "execute_result",
          "data": {
            "text/plain": [
              "tensor([[True],\n",
              "        [True],\n",
              "        [True],\n",
              "        [True],\n",
              "        [True],\n",
              "        [True],\n",
              "        [True],\n",
              "        [True],\n",
              "        [True],\n",
              "        [True],\n",
              "        [True],\n",
              "        [True],\n",
              "        [True],\n",
              "        [True],\n",
              "        [True],\n",
              "        [True],\n",
              "        [True],\n",
              "        [True],\n",
              "        [True],\n",
              "        [True]], device='cuda:0')"
            ]
          },
          "metadata": {},
          "execution_count": 59
        }
      ]
    },
    {
      "cell_type": "code",
      "source": [],
      "metadata": {
        "id": "W5eJaT7vo2vZ"
      },
      "execution_count": null,
      "outputs": []
    }
  ]
}